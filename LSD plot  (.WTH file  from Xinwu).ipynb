{
 "cells": [
  {
   "cell_type": "code",
   "execution_count": 12,
   "metadata": {},
   "outputs": [],
   "source": [
    "################################################\n",
    "## =========== TW.sol new! 1105 ============== #\n",
    "## ======= renew .WTH file (Xinwu) =========== #\n",
    "################################################\n",
    "\n",
    "library(dplyr)\n",
    "library(stringr)\n",
    "library(ggplot2)\n"
   ]
  },
  {
   "cell_type": "code",
   "execution_count": 13,
   "metadata": {},
   "outputs": [],
   "source": [
    "Han546yield = read.table(\"OVERVIEW(TW.sol 1203new).txt\", sep=\"\\n\")\n",
    "TW.sol_10km = read.table(\"TW.sol_10km.txt\",sep=\"\\n\")"
   ]
  },
  {
   "cell_type": "code",
   "execution_count": 14,
   "metadata": {},
   "outputs": [
    {
     "name": "stderr",
     "output_type": "stream",
     "text": [
      "Warning message in na.omit(as.numeric(unlist(strsplit(as.character(part_of_TW.sol_10km), :\n",
      "\"強制變更過程中產生了 NA\"\n"
     ]
    }
   ],
   "source": [
    "## for ID and grids ###\n",
    "\n",
    "n = nrow(TW.sol_10km)\n",
    "datseq = seq(from=3, to=n, by=13)\n",
    "\n",
    "part_of_TW.sol_10km = TW.sol_10km[datseq, ]\n",
    "co = na.omit(as.numeric(unlist(strsplit(as.character(part_of_TW.sol_10km), \" \"))))\n",
    "nn = which(co==-99)\n",
    "co = co[-nn]\n",
    "coords = data.frame(matrix(co, nrow=546, ncol=2, byrow = T))\n",
    "\n",
    "datseq3 = seq(from=1, to=n, by=13)\n",
    "ID_of_TW.sol_10km = TW.sol_10km[datseq3, ]\n",
    "rr = unlist(strsplit(as.character(ID_of_TW.sol_10km), \" \"))\n",
    "\n",
    "rr = rr[str_sub(rr, start = 1, end = 3)==\"*TW\"]\n",
    "rrr = substr(rr, 2,11)\n",
    "coordID = as.data.frame(cbind(rrr,coords)) \n",
    "colnames(coordID) = c(\"ID\", \"Latitude\", \"Longitude\")"
   ]
  },
  {
   "cell_type": "code",
   "execution_count": 15,
   "metadata": {},
   "outputs": [
    {
     "name": "stderr",
     "output_type": "stream",
     "text": [
      "Warning message in na.omit(as.numeric(unlist(strsplit(as.character(Han546yield_y), :\n",
      "\"強制變更過程中產生了 NA\"\n"
     ]
    },
    {
     "data": {
      "text/html": [
       "<table>\n",
       "<caption>A data.frame: 6 × 2</caption>\n",
       "<thead>\n",
       "\t<tr><th></th><th scope=col>ID</th><th scope=col>yield</th></tr>\n",
       "\t<tr><th></th><th scope=col>&lt;fct&gt;</th><th scope=col>&lt;fct&gt;</th></tr>\n",
       "</thead>\n",
       "<tbody>\n",
       "\t<tr><th scope=row>1</th><td>TW03437994</td><td>2667</td></tr>\n",
       "\t<tr><th scope=row>2</th><td>TW03437995</td><td>1088</td></tr>\n",
       "\t<tr><th scope=row>3</th><td>TW03442313</td><td>619 </td></tr>\n",
       "\t<tr><th scope=row>4</th><td>TW03442314</td><td>2366</td></tr>\n",
       "\t<tr><th scope=row>5</th><td>TW03442315</td><td>2426</td></tr>\n",
       "\t<tr><th scope=row>6</th><td>TW03442316</td><td>2187</td></tr>\n",
       "</tbody>\n",
       "</table>\n"
      ],
      "text/latex": [
       "A data.frame: 6 × 2\n",
       "\\begin{tabular}{r|ll}\n",
       "  & ID & yield\\\\\n",
       "  & <fct> & <fct>\\\\\n",
       "\\hline\n",
       "\t1 & TW03437994 & 2667\\\\\n",
       "\t2 & TW03437995 & 1088\\\\\n",
       "\t3 & TW03442313 & 619 \\\\\n",
       "\t4 & TW03442314 & 2366\\\\\n",
       "\t5 & TW03442315 & 2426\\\\\n",
       "\t6 & TW03442316 & 2187\\\\\n",
       "\\end{tabular}\n"
      ],
      "text/markdown": [
       "\n",
       "A data.frame: 6 × 2\n",
       "\n",
       "| <!--/--> | ID &lt;fct&gt; | yield &lt;fct&gt; |\n",
       "|---|---|---|\n",
       "| 1 | TW03437994 | 2667 |\n",
       "| 2 | TW03437995 | 1088 |\n",
       "| 3 | TW03442313 | 619  |\n",
       "| 4 | TW03442314 | 2366 |\n",
       "| 5 | TW03442315 | 2426 |\n",
       "| 6 | TW03442316 | 2187 |\n",
       "\n"
      ],
      "text/plain": [
       "  ID         yield\n",
       "1 TW03437994 2667 \n",
       "2 TW03437995 1088 \n",
       "3 TW03442313 619  \n",
       "4 TW03442314 2366 \n",
       "5 TW03442315 2426 \n",
       "6 TW03442316 2187 "
      ]
     },
     "metadata": {},
     "output_type": "display_data"
    }
   ],
   "source": [
    "## for ID and yields ###\n",
    "\n",
    "n = 546 # sol個數\n",
    "datseq = seq(from=115, to=n*115+1, by=115)\n",
    "Han546yield_y = Han546yield[datseq, ]\n",
    "yield = na.omit(as.numeric(unlist(strsplit(\n",
    "  as.character(Han546yield_y), \" \")))) %>% as.numeric()\n",
    "\n",
    "datseq2 = seq(from=3, to=n*115+1, by=115)\n",
    "Han546yield_co = Han546yield[datseq2, ]\n",
    "\n",
    "tm = unlist(strsplit(as.character(Han546yield_co), \" \"))\n",
    "\n",
    "tm_546 = tm[str_sub(tm, start = 1, end = 2)==\"TW\"]\n",
    "yield.ID_546 = as.data.frame(cbind(tm_546,yield)) \n",
    "colnames(yield.ID_546) = c(\"ID\", \"yield\")\n",
    "head(yield.ID_546)"
   ]
  },
  {
   "cell_type": "code",
   "execution_count": 16,
   "metadata": {},
   "outputs": [],
   "source": [
    "final_Han546 = merge(coordID, yield.ID_546, by = \"ID\") %>% as.data.frame()\n",
    "\n",
    "# write.table(final_Han546, \"final_Han546.txt\")\n"
   ]
  },
  {
   "cell_type": "code",
   "execution_count": 40,
   "metadata": {},
   "outputs": [
    {
     "data": {
      "image/png": "[encoded data removed]",
      "text/plain": [
       "plot without title"
      ]
     },
     "metadata": {
      "image/png": {
       "height": 420,
       "width": 420
      }
     },
     "output_type": "display_data"
    }
   ],
   "source": [
    "# final_Han546 = read.table(\"final_Han546.txt\" , header = T)\n",
    "\n",
    "# yield = final_Han546$yield\n",
    "col = as.numeric(as.vector(final_Han546$yield))\n",
    "\n",
    "\n",
    "# coord plot # \n",
    "ggplot(final_Han546, aes(x=Longitude,y=Latitude))+\n",
    "  geom_point( aes(x=Longitude,y=Latitude, color = col))+\n",
    "  scale_colour_gradient(low=\"orange\", high = \"palegreen4\",name =\"Yield\")+\n",
    "  labs(x = \"longitude\", y = \"Latitude\")\n",
    " "
   ]
  },
  {
   "cell_type": "code",
   "execution_count": 37,
   "metadata": {},
   "outputs": [],
   "source": [
    "f = function(yield){yield/ max(as.numeric(final_Han546$yield))}\n",
    "nor = sapply(yield, f)\n",
    "\n",
    "nor_yield = as.data.frame(cbind(tm_546,yield,nor))\n",
    "colnames(nor_yield) = c(\"ID\", \"yield\", \"normalized yield\")\n",
    "nor_final_Han546 = merge(coordID, nor_yield, by = \"ID\")"
   ]
  },
  {
   "cell_type": "code",
   "execution_count": 38,
   "metadata": {},
   "outputs": [
    {
     "data": {
      "image/png": "[encoded data removed]",
      "text/plain": [
       "plot without title"
      ]
     },
     "metadata": {
      "image/png": {
       "height": 420,
       "width": 420
      }
     },
     "output_type": "display_data"
    }
   ],
   "source": [
    "# plot normalized yield # \n",
    "col_nor = as.numeric(as.vector(nor_final_Han546$`normalized yield`))\n",
    "\n",
    "\n",
    "ggplot(final_Han546, aes(x=Longitude,y=Latitude))+\n",
    "  geom_point( aes(x=Longitude,y=Latitude, color = col_nor))+\n",
    "  scale_colour_gradient(low=\"orangered\", high = \"seagreen4\",name =\"Normalized Yield\")+\n",
    "  labs(x = \"longitude\", y = \"Latitude\")\n",
    "\n",
    "# =========== above are han154 plots =========== #"
   ]
  }
 ],
 "metadata": {
  "kernelspec": {
   "display_name": "R",
   "language": "R",
   "name": "ir"
  },
  "language_info": {
   "codemirror_mode": "r",
   "file_extension": ".r",
   "mimetype": "text/x-r-source",
   "name": "R",
   "pygments_lexer": "r",
   "version": "3.6.1"
  }
 },
 "nbformat": 4,
 "nbformat_minor": 2
}
